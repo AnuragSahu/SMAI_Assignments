{
 "cells": [
  {
   "cell_type": "code",
   "execution_count": 39,
   "metadata": {},
   "outputs": [
    {
     "name": "stdout",
     "output_type": "stream",
     "text": [
      "(2,)\n",
      "(2,)\n",
      "(1000, 2)\n",
      "(2, 2)\n",
      "1000\n",
      "(1000, 2)\n"
     ]
    }
   ],
   "source": [
    "import random\n",
    "import numpy as np\n",
    "import numpy.linalg as LA\n",
    "import math\n",
    "import matplotlib.pyplot as plt\n",
    "from mpl_toolkits.mplot3d import Axes3D\n",
    "\n",
    "#test samples generate\n",
    "\n",
    "data = []\n",
    "for i in range(1000):\n",
    "    a = np.random.rand()%10\n",
    "    a1 = np.random.rand()%10\n",
    "    data.append([a,a1])\n",
    "    \n",
    "data = np.array(data)\n",
    "\n",
    "#part1\n",
    "mean1 = np.array([3, 3])\n",
    "mean2 = np.array([7, 7])\n",
    "U1 = np.array([[3, 0], [0, 3]])\n",
    "U2 = np.array([[3, 0], [0, 3]])\n",
    "\n",
    "print(mean1.shape)\n",
    "print(mean2.shape)\n",
    "print(data.shape)\n",
    "print(U1.shape)\n",
    "#x1 = np.random.multivariate_normal(mean1, cov, 1000)\n",
    "#x2 = np.random.multivariate_normal(mean2, cov, 1000)\n",
    "classified_a = []\n",
    "classified_b = []\n",
    "for x in data:\n",
    "    P1 = (1/(math.pow(2 * math.pi, 300))* pow(abs(LA.det(U1)), 0.5)) * (math.exp(-np.real((x - mean1).dot(LA.inv(U1)).dot(np.transpose(x - mean1)))/2))\n",
    "    P2 = (1/(math.pow(2 * math.pi, 300))* pow(abs(LA.det(U2)), 0.5)) * (math.exp(-np.real((x - mean2).dot(LA.inv(U2)).dot(np.transpose(x - mean2)))/2))\n",
    "    if(P1 > P2):\n",
    "        classified_a.append(x)\n",
    "    else:\n",
    "        classified_b.append(x)\n",
    "        \n",
    "classified_ax,classified_ax = classified_a.T\n",
    "classified_bx,classified_bx = classified_b.T\n",
    "plt.scatter(classified_bx,classified_bx,c=\"r\")\n",
    "plt.scatter(classified_bx,classified_bx,c=\"b\")"
   ]
  },
  {
   "cell_type": "code",
   "execution_count": null,
   "metadata": {},
   "outputs": [],
   "source": [
    "\n",
    "#density = (1 / (pow(2 * math.pi, 30) * pow(abs(LA.det(V)), -0.5))) * (math.exp(-np.real((x - U).dot(LA.inv(V)).dot(np.transpose(x - U))/2)))\n",
    "\n",
    "#X1 = (x1 - x1.min())/(x1.max() - x1.min()) * 10\n",
    "#X2 = (x2 - x2.min())/(x2.max() - x2.min()) * 10\n",
    "#plt.scatter(X1[:, 0], X1[:, 1], c= 'r', marker='x')\n",
    "#plt.scatter(X2[:, 0], X2[:, 1], c= 'g', marker='o')\n",
    "#plt.xlabel('x')\n",
    "#plt.ylabel('y')\n",
    "#plt.show()\n",
    "\n",
    "#part2\n",
    "mean1 = (3, 3)\n",
    "mean2 = (7, 7)\n",
    "cov1 = [[3, 1], [2, 3]]\n",
    "cov2 = [[7, 2], [1, 7]]\n",
    "x1 = np.random.multivariate_normal(mean1, cov1, 1000)\n",
    "x2 = np.random.multivariate_normal(mean2, cov2, 1000)\n",
    "\n",
    "X1 = (x1 - x1.min())/(x1.max() - x1.min()) * 10\n",
    "X2 = (x2 - x2.min())/(x2.max() - x2.min()) * 10\n",
    "plt.scatter(X1[:, 0], X1[:, 1], c= 'r', marker='x')\n",
    "plt.scatter(X2[:, 0], X2[:, 1], c= 'g', marker='o')\n",
    "plt.xlabel('x')\n",
    "plt.ylabel('y')\n",
    "plt.show()"
   ]
  }
 ],
 "metadata": {
  "kernelspec": {
   "display_name": "Python 3",
   "language": "python",
   "name": "python3"
  },
  "language_info": {
   "codemirror_mode": {
    "name": "ipython",
    "version": 3
   },
   "file_extension": ".py",
   "mimetype": "text/x-python",
   "name": "python",
   "nbconvert_exporter": "python",
   "pygments_lexer": "ipython3",
   "version": "3.6.7"
  }
 },
 "nbformat": 4,
 "nbformat_minor": 2
}
